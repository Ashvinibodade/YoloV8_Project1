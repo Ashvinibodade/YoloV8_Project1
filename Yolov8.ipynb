{
 "cells": [
  {
   "cell_type": "code",
   "execution_count": 1,
   "metadata": {
    "colab": {
     "base_uri": "https://localhost:8080/"
    },
    "id": "At6wpKiNOdKG",
    "outputId": "329762e2-6b31-436b-de9a-0bd1780449f0"
   },
   "outputs": [],
   "source": [
    "# !nvidia-smi\n"
   ]
  },
  {
   "cell_type": "code",
   "execution_count": 2,
   "metadata": {
    "colab": {
     "base_uri": "https://localhost:8080/"
    },
    "id": "O0leiHCLO26p",
    "outputId": "b016f1ce-f6d1-4465-8d20-c7e000efb420"
   },
   "outputs": [
    {
     "name": "stdout",
     "output_type": "stream",
     "text": [
      "Requirement already satisfied: ultralytics in c:\\users\\ashvi\\appdata\\local\\programs\\python\\python310\\lib\\site-packages (8.0.113)\n",
      "Requirement already satisfied: requests>=2.23.0 in c:\\users\\ashvi\\appdata\\local\\programs\\python\\python310\\lib\\site-packages (from ultralytics) (2.28.1)\n",
      "Requirement already satisfied: matplotlib>=3.2.2 in c:\\users\\ashvi\\appdata\\local\\programs\\python\\python310\\lib\\site-packages (from ultralytics) (3.6.0)\n",
      "Requirement already satisfied: tqdm>=4.64.0 in c:\\users\\ashvi\\appdata\\local\\programs\\python\\python310\\lib\\site-packages (from ultralytics) (4.65.0)\n",
      "Requirement already satisfied: PyYAML>=5.3.1 in c:\\users\\ashvi\\appdata\\local\\programs\\python\\python310\\lib\\site-packages (from ultralytics) (6.0)\n",
      "Requirement already satisfied: torch>=1.7.0 in c:\\users\\ashvi\\appdata\\local\\programs\\python\\python310\\lib\\site-packages (from ultralytics) (2.0.1)\n",
      "Requirement already satisfied: torchvision>=0.8.1 in c:\\users\\ashvi\\appdata\\local\\programs\\python\\python310\\lib\\site-packages (from ultralytics) (0.15.2)\n",
      "Requirement already satisfied: scipy>=1.4.1 in c:\\users\\ashvi\\appdata\\local\\programs\\python\\python310\\lib\\site-packages (from ultralytics) (1.9.1)\n",
      "Requirement already satisfied: pandas>=1.1.4 in c:\\users\\ashvi\\appdata\\local\\programs\\python\\python310\\lib\\site-packages (from ultralytics) (1.5.0)\n",
      "Requirement already satisfied: Pillow>=7.1.2 in c:\\users\\ashvi\\appdata\\local\\programs\\python\\python310\\lib\\site-packages (from ultralytics) (9.2.0)\n",
      "Requirement already satisfied: opencv-python>=4.6.0 in c:\\users\\ashvi\\appdata\\local\\programs\\python\\python310\\lib\\site-packages (from ultralytics) (4.7.0.72)\n",
      "Requirement already satisfied: seaborn>=0.11.0 in c:\\users\\ashvi\\appdata\\local\\programs\\python\\python310\\lib\\site-packages (from ultralytics) (0.12.1)\n",
      "Requirement already satisfied: psutil in c:\\users\\ashvi\\appdata\\local\\programs\\python\\python310\\lib\\site-packages (from ultralytics) (5.9.2)\n",
      "Requirement already satisfied: contourpy>=1.0.1 in c:\\users\\ashvi\\appdata\\local\\programs\\python\\python310\\lib\\site-packages (from matplotlib>=3.2.2->ultralytics) (1.0.5)\n",
      "Requirement already satisfied: python-dateutil>=2.7 in c:\\users\\ashvi\\appdata\\local\\programs\\python\\python310\\lib\\site-packages (from matplotlib>=3.2.2->ultralytics) (2.8.2)\n",
      "Requirement already satisfied: numpy>=1.19 in c:\\users\\ashvi\\appdata\\local\\programs\\python\\python310\\lib\\site-packages (from matplotlib>=3.2.2->ultralytics) (1.23.3)\n",
      "Requirement already satisfied: packaging>=20.0 in c:\\users\\ashvi\\appdata\\local\\programs\\python\\python310\\lib\\site-packages (from matplotlib>=3.2.2->ultralytics) (21.3)\n",
      "Requirement already satisfied: fonttools>=4.22.0 in c:\\users\\ashvi\\appdata\\local\\programs\\python\\python310\\lib\\site-packages (from matplotlib>=3.2.2->ultralytics) (4.37.4)\n",
      "Requirement already satisfied: pyparsing>=2.2.1 in c:\\users\\ashvi\\appdata\\local\\programs\\python\\python310\\lib\\site-packages (from matplotlib>=3.2.2->ultralytics) (3.0.9)\n",
      "Requirement already satisfied: cycler>=0.10 in c:\\users\\ashvi\\appdata\\local\\programs\\python\\python310\\lib\\site-packages (from matplotlib>=3.2.2->ultralytics) (0.11.0)\n",
      "Requirement already satisfied: kiwisolver>=1.0.1 in c:\\users\\ashvi\\appdata\\local\\programs\\python\\python310\\lib\\site-packages (from matplotlib>=3.2.2->ultralytics) (1.4.4)\n",
      "Requirement already satisfied: pytz>=2020.1 in c:\\users\\ashvi\\appdata\\local\\programs\\python\\python310\\lib\\site-packages (from pandas>=1.1.4->ultralytics) (2022.2.1)\n",
      "Requirement already satisfied: certifi>=2017.4.17 in c:\\users\\ashvi\\appdata\\local\\programs\\python\\python310\\lib\\site-packages (from requests>=2.23.0->ultralytics) (2022.6.15)\n",
      "Requirement already satisfied: charset-normalizer<3,>=2 in c:\\users\\ashvi\\appdata\\local\\programs\\python\\python310\\lib\\site-packages (from requests>=2.23.0->ultralytics) (2.1.1)\n",
      "Requirement already satisfied: urllib3<1.27,>=1.21.1 in c:\\users\\ashvi\\appdata\\local\\programs\\python\\python310\\lib\\site-packages (from requests>=2.23.0->ultralytics) (1.26.11)\n",
      "Requirement already satisfied: idna<4,>=2.5 in c:\\users\\ashvi\\appdata\\local\\programs\\python\\python310\\lib\\site-packages (from requests>=2.23.0->ultralytics) (3.3)\n",
      "Requirement already satisfied: typing-extensions in c:\\users\\ashvi\\appdata\\local\\programs\\python\\python310\\lib\\site-packages (from torch>=1.7.0->ultralytics) (4.6.3)\n",
      "Requirement already satisfied: filelock in c:\\users\\ashvi\\appdata\\local\\programs\\python\\python310\\lib\\site-packages (from torch>=1.7.0->ultralytics) (3.7.1)\n",
      "Requirement already satisfied: sympy in c:\\users\\ashvi\\appdata\\local\\programs\\python\\python310\\lib\\site-packages (from torch>=1.7.0->ultralytics) (1.12)\n",
      "Requirement already satisfied: jinja2 in c:\\users\\ashvi\\appdata\\local\\programs\\python\\python310\\lib\\site-packages (from torch>=1.7.0->ultralytics) (3.1.2)\n",
      "Requirement already satisfied: networkx in c:\\users\\ashvi\\appdata\\local\\programs\\python\\python310\\lib\\site-packages (from torch>=1.7.0->ultralytics) (3.1)\n",
      "Requirement already satisfied: colorama in c:\\users\\ashvi\\appdata\\local\\programs\\python\\python310\\lib\\site-packages (from tqdm>=4.64.0->ultralytics) (0.4.5)\n",
      "Requirement already satisfied: six>=1.5 in c:\\users\\ashvi\\appdata\\local\\programs\\python\\python310\\lib\\site-packages (from python-dateutil>=2.7->matplotlib>=3.2.2->ultralytics) (1.16.0)\n",
      "Requirement already satisfied: MarkupSafe>=2.0 in c:\\users\\ashvi\\appdata\\local\\programs\\python\\python310\\lib\\site-packages (from jinja2->torch>=1.7.0->ultralytics) (2.1.1)\n",
      "Requirement already satisfied: mpmath>=0.19 in c:\\users\\ashvi\\appdata\\local\\programs\\python\\python310\\lib\\site-packages (from sympy->torch>=1.7.0->ultralytics) (1.3.0)\n",
      "Note: you may need to restart the kernel to use updated packages.\n"
     ]
    },
    {
     "name": "stderr",
     "output_type": "stream",
     "text": [
      "\n",
      "[notice] A new release of pip is available: 23.0.1 -> 23.1.2\n",
      "[notice] To update, run: python.exe -m pip install --upgrade pip\n"
     ]
    }
   ],
   "source": [
    "pip install ultralytics"
   ]
  },
  {
   "cell_type": "code",
   "execution_count": 5,
   "metadata": {},
   "outputs": [
    {
     "data": {
      "text/plain": [
       "'E:\\\\YoloV8\\\\Project2'"
      ]
     },
     "execution_count": 5,
     "metadata": {},
     "output_type": "execute_result"
    }
   ],
   "source": [
    "pwd"
   ]
  },
  {
   "cell_type": "markdown",
   "metadata": {},
   "source": [
    "# 1. Detection"
   ]
  },
  {
   "cell_type": "code",
   "execution_count": 6,
   "metadata": {
    "colab": {
     "base_uri": "https://localhost:8080/"
    },
    "id": "gQykA65PO3No",
    "outputId": "665ad87b-33ac-4935-95df-703b383c6945"
   },
   "outputs": [
    {
     "name": "stderr",
     "output_type": "stream",
     "text": [
      "Ultralytics YOLOv8.0.113  Python-3.10.5 torch-2.0.1+cpu CPU\n",
      "YOLOv8n summary (fused): 168 layers, 3151904 parameters, 0 gradients\n",
      "\n",
      "image 1/1 E:\\YoloV8\\Project2\\images\\1.jpg: 352x640 2 cats, 1 bed, 141.6ms\n",
      "Speed: 0.0ms preprocess, 141.6ms inference, 15.6ms postprocess per image at shape (1, 3, 640, 640)\n",
      "Results saved to \u001b[1mruns\\detect\\predict\u001b[0m\n"
     ]
    }
   ],
   "source": [
    "!yolo task=detect mode=predict model=yolov8n.pt source=\"images/1.jpg\""
   ]
  },
  {
   "cell_type": "markdown",
   "metadata": {
    "id": "4WXVXso2O3Q_"
   },
   "source": [
    "# 2.Segmentation"
   ]
  },
  {
   "cell_type": "code",
   "execution_count": 7,
   "metadata": {},
   "outputs": [
    {
     "name": "stderr",
     "output_type": "stream",
     "text": [
      "Downloading https:\\github.com\\ultralytics\\assets\\releases\\download\\v0.0.0\\yolov8n-seg.pt to yolov8n-seg.pt...\n",
      "\n",
      "  0%|          | 0.00/6.73M [00:00<?, ?B/s]\n",
      "  0%|          | 32.0k/6.73M [00:00<00:26, 262kB/s]\n",
      "  1%|1         | 72.0k/6.73M [00:00<01:14, 93.4kB/s]\n",
      "  2%|1         | 136k/6.73M [00:00<00:36, 188kB/s]  \n",
      "  3%|2         | 176k/6.73M [00:00<00:32, 214kB/s]\n",
      "  3%|3         | 224k/6.73M [00:01<00:25, 265kB/s]\n",
      "  4%|3         | 272k/6.73M [00:01<00:21, 309kB/s]\n",
      "  5%|5         | 352k/6.73M [00:01<00:19, 335kB/s]\n",
      "  7%|6         | 448k/6.73M [00:01<00:19, 340kB/s]\n",
      "  7%|7         | 496k/6.73M [00:01<00:19, 337kB/s]\n",
      "  9%|8         | 608k/6.73M [00:02<00:18, 349kB/s]\n",
      "  9%|9         | 648k/6.73M [00:02<00:19, 336kB/s]\n",
      " 11%|#1        | 768k/6.73M [00:02<00:16, 379kB/s]\n",
      " 12%|#1        | 808k/6.73M [00:02<00:17, 347kB/s]\n",
      " 14%|#3        | 944k/6.73M [00:03<00:15, 393kB/s]\n",
      " 14%|#4        | 984k/6.73M [00:03<00:16, 372kB/s]\n",
      " 16%|#5        | 1.06M/6.73M [00:03<00:12, 483kB/s]\n",
      " 17%|#6        | 1.14M/6.73M [00:03<00:10, 538kB/s]\n",
      " 18%|#7        | 1.20M/6.73M [00:03<00:13, 437kB/s]\n",
      " 20%|##        | 1.36M/6.73M [00:03<00:08, 637kB/s]\n",
      " 21%|##1       | 1.44M/6.73M [00:03<00:08, 640kB/s]\n",
      " 22%|##2       | 1.51M/6.73M [00:04<00:09, 548kB/s]\n",
      " 24%|##4       | 1.64M/6.73M [00:04<00:10, 529kB/s]\n",
      " 25%|##5       | 1.70M/6.73M [00:04<00:10, 488kB/s]\n",
      " 27%|##7       | 1.83M/6.73M [00:04<00:08, 611kB/s]\n",
      " 29%|##8       | 1.94M/6.73M [00:04<00:07, 704kB/s]\n",
      " 30%|##9       | 2.02M/6.73M [00:04<00:08, 609kB/s]\n",
      " 32%|###1      | 2.12M/6.73M [00:05<00:06, 706kB/s]\n",
      " 33%|###2      | 2.20M/6.73M [00:05<00:09, 494kB/s]\n",
      " 34%|###4      | 2.31M/6.73M [00:05<00:07, 599kB/s]\n",
      " 36%|###5      | 2.39M/6.73M [00:05<00:08, 532kB/s]\n",
      " 37%|###6      | 2.48M/6.73M [00:05<00:07, 607kB/s]\n",
      " 39%|###8      | 2.59M/6.73M [00:05<00:06, 684kB/s]\n",
      " 40%|####      | 2.70M/6.73M [00:06<00:05, 770kB/s]\n",
      " 42%|####1     | 2.81M/6.73M [00:06<00:04, 841kB/s]\n",
      " 43%|####3     | 2.91M/6.73M [00:06<00:04, 854kB/s]\n",
      " 45%|####4     | 3.02M/6.73M [00:06<00:04, 905kB/s]\n",
      " 46%|####6     | 3.11M/6.73M [00:06<00:04, 866kB/s]\n",
      " 48%|####7     | 3.20M/6.73M [00:06<00:04, 874kB/s]\n",
      " 49%|####9     | 3.30M/6.73M [00:06<00:04, 845kB/s]\n",
      " 51%|#####     | 3.42M/6.73M [00:06<00:03, 908kB/s]\n",
      " 52%|#####2    | 3.52M/6.73M [00:07<00:04, 706kB/s]\n",
      " 55%|#####5    | 3.73M/6.73M [00:07<00:03, 1.02MB/s]\n",
      " 57%|#####7    | 3.84M/6.73M [00:07<00:02, 1.04MB/s]\n",
      " 59%|#####8    | 3.95M/6.73M [00:07<00:02, 1.04MB/s]\n",
      " 61%|######    | 4.08M/6.73M [00:07<00:02, 1.08MB/s]\n",
      " 62%|######2   | 4.20M/6.73M [00:07<00:02, 1.12MB/s]\n",
      " 64%|######4   | 4.32M/6.73M [00:07<00:02, 1.07MB/s]\n",
      " 66%|######5   | 4.44M/6.73M [00:07<00:02, 1.08MB/s]\n",
      " 68%|######7   | 4.55M/6.73M [00:07<00:02, 1.07MB/s]\n",
      " 70%|######9   | 4.70M/6.73M [00:08<00:01, 1.17MB/s]\n",
      " 72%|#######1  | 4.82M/6.73M [00:08<00:02, 855kB/s] \n",
      " 74%|#######4  | 4.98M/6.73M [00:08<00:01, 1.02MB/s]\n",
      " 76%|#######5  | 5.10M/6.73M [00:08<00:02, 836kB/s] \n",
      " 77%|#######7  | 5.20M/6.73M [00:08<00:02, 684kB/s]\n",
      " 78%|#######8  | 5.27M/6.73M [00:09<00:02, 669kB/s]\n",
      " 80%|#######9  | 5.35M/6.73M [00:09<00:02, 665kB/s]\n",
      " 81%|########  | 5.42M/6.73M [00:09<00:02, 587kB/s]\n",
      " 82%|########1 | 5.48M/6.73M [00:09<00:02, 521kB/s]\n",
      " 82%|########2 | 5.54M/6.73M [00:09<00:02, 490kB/s]\n",
      " 83%|########3 | 5.59M/6.73M [00:09<00:02, 405kB/s]\n",
      " 84%|########3 | 5.64M/6.73M [00:09<00:02, 390kB/s]\n",
      " 85%|########4 | 5.69M/6.73M [00:10<00:02, 390kB/s]\n",
      " 85%|########5 | 5.73M/6.73M [00:10<00:02, 404kB/s]\n",
      " 86%|########6 | 5.80M/6.73M [00:10<00:02, 423kB/s]\n",
      " 87%|########7 | 5.86M/6.73M [00:10<00:01, 467kB/s]\n",
      " 88%|########7 | 5.91M/6.73M [00:10<00:01, 458kB/s]\n",
      " 88%|########8 | 5.95M/6.73M [00:10<00:01, 458kB/s]\n",
      " 89%|########9 | 6.00M/6.73M [00:10<00:01, 406kB/s]\n",
      " 91%|######### | 6.09M/6.73M [00:10<00:01, 534kB/s]\n",
      " 92%|#########1| 6.16M/6.73M [00:11<00:01, 511kB/s]\n",
      " 92%|#########2| 6.22M/6.73M [00:11<00:01, 533kB/s]\n",
      " 93%|#########3| 6.27M/6.73M [00:11<00:01, 325kB/s]\n",
      " 94%|#########4| 6.34M/6.73M [00:11<00:01, 382kB/s]\n",
      " 95%|#########5| 6.41M/6.73M [00:11<00:00, 427kB/s]\n",
      " 96%|#########6| 6.46M/6.73M [00:11<00:00, 435kB/s]\n",
      " 97%|#########7| 6.53M/6.73M [00:12<00:00, 419kB/s]\n",
      " 99%|#########9| 6.67M/6.73M [00:12<00:00, 610kB/s]\n",
      "100%|##########| 6.73M/6.73M [00:12<00:00, 573kB/s]\n",
      "Ultralytics YOLOv8.0.113  Python-3.10.5 torch-2.0.1+cpu CPU\n",
      "YOLOv8n-seg summary (fused): 195 layers, 3404320 parameters, 0 gradients\n",
      "\n",
      "image 1/1 E:\\YoloV8\\Project2\\images\\1.jpg: 352x640 2 cats, 1 bed, 267.2ms\n",
      "Speed: 0.0ms preprocess, 267.2ms inference, 17.6ms postprocess per image at shape (1, 3, 640, 640)\n",
      "Results saved to \u001b[1mruns\\segment\\predict\u001b[0m\n"
     ]
    }
   ],
   "source": [
    "!yolo task=segment mode=predict model=yolov8n-seg.pt source=\"images/1.jpg\""
   ]
  },
  {
   "cell_type": "markdown",
   "metadata": {},
   "source": [
    "# Python script"
   ]
  },
  {
   "cell_type": "code",
   "execution_count": 8,
   "metadata": {},
   "outputs": [
    {
     "name": "stderr",
     "output_type": "stream",
     "text": [
      "\n",
      "image 1/1 E:\\YoloV8\\Project2\\images\\1.jpg: 352x640 2 cats, 1 bed, 291.6ms\n",
      "Speed: 0.0ms preprocess, 291.6ms inference, 0.0ms postprocess per image at shape (1, 3, 640, 640)\n"
     ]
    },
    {
     "data": {
      "text/plain": [
       "[ultralytics.yolo.engine.results.Results object with attributes:\n",
       " \n",
       " boxes: ultralytics.yolo.engine.results.Boxes object\n",
       " keypoints: None\n",
       " keys: ['boxes', 'masks']\n",
       " masks: ultralytics.yolo.engine.results.Masks object\n",
       " names: {0: 'person', 1: 'bicycle', 2: 'car', 3: 'motorcycle', 4: 'airplane', 5: 'bus', 6: 'train', 7: 'truck', 8: 'boat', 9: 'traffic light', 10: 'fire hydrant', 11: 'stop sign', 12: 'parking meter', 13: 'bench', 14: 'bird', 15: 'cat', 16: 'dog', 17: 'horse', 18: 'sheep', 19: 'cow', 20: 'elephant', 21: 'bear', 22: 'zebra', 23: 'giraffe', 24: 'backpack', 25: 'umbrella', 26: 'handbag', 27: 'tie', 28: 'suitcase', 29: 'frisbee', 30: 'skis', 31: 'snowboard', 32: 'sports ball', 33: 'kite', 34: 'baseball bat', 35: 'baseball glove', 36: 'skateboard', 37: 'surfboard', 38: 'tennis racket', 39: 'bottle', 40: 'wine glass', 41: 'cup', 42: 'fork', 43: 'knife', 44: 'spoon', 45: 'bowl', 46: 'banana', 47: 'apple', 48: 'sandwich', 49: 'orange', 50: 'broccoli', 51: 'carrot', 52: 'hot dog', 53: 'pizza', 54: 'donut', 55: 'cake', 56: 'chair', 57: 'couch', 58: 'potted plant', 59: 'bed', 60: 'dining table', 61: 'toilet', 62: 'tv', 63: 'laptop', 64: 'mouse', 65: 'remote', 66: 'keyboard', 67: 'cell phone', 68: 'microwave', 69: 'oven', 70: 'toaster', 71: 'sink', 72: 'refrigerator', 73: 'book', 74: 'clock', 75: 'vase', 76: 'scissors', 77: 'teddy bear', 78: 'hair drier', 79: 'toothbrush'}\n",
       " orig_img: array([[[159, 172, 188],\n",
       "         [158, 171, 187],\n",
       "         [158, 171, 187],\n",
       "         ...,\n",
       "         [174, 183, 193],\n",
       "         [174, 183, 193],\n",
       "         [174, 183, 193]],\n",
       " \n",
       "        [[159, 172, 188],\n",
       "         [158, 171, 187],\n",
       "         [158, 171, 187],\n",
       "         ...,\n",
       "         [174, 183, 193],\n",
       "         [174, 183, 193],\n",
       "         [174, 183, 193]],\n",
       " \n",
       "        [[159, 172, 188],\n",
       "         [158, 171, 187],\n",
       "         [158, 171, 187],\n",
       "         ...,\n",
       "         [174, 183, 193],\n",
       "         [174, 183, 193],\n",
       "         [174, 183, 193]],\n",
       " \n",
       "        ...,\n",
       " \n",
       "        [[172, 182, 192],\n",
       "         [172, 182, 192],\n",
       "         [173, 183, 193],\n",
       "         ...,\n",
       "         [150, 168, 185],\n",
       "         [148, 166, 183],\n",
       "         [146, 164, 181]],\n",
       " \n",
       "        [[171, 181, 191],\n",
       "         [172, 182, 192],\n",
       "         [172, 182, 192],\n",
       "         ...,\n",
       "         [151, 169, 186],\n",
       "         [149, 167, 184],\n",
       "         [147, 165, 182]],\n",
       " \n",
       "        [[168, 180, 190],\n",
       "         [169, 181, 191],\n",
       "         [169, 181, 193],\n",
       "         ...,\n",
       "         [152, 170, 187],\n",
       "         [150, 168, 185],\n",
       "         [148, 166, 183]]], dtype=uint8)\n",
       " orig_shape: (603, 1200)\n",
       " path: 'E:\\\\YoloV8\\\\Project2\\\\images\\\\1.jpg'\n",
       " probs: None\n",
       " speed: {'preprocess': 0.0, 'inference': 291.63098335266113, 'postprocess': 0.0}]"
      ]
     },
     "execution_count": 8,
     "metadata": {},
     "output_type": "execute_result"
    }
   ],
   "source": [
    "from ultralytics import YOLO\n",
    "\n",
    "# Load a segmentation model\n",
    "model = YOLO(\"yolov8n-seg.pt\")  \n",
    "model.predict(source=\"images/1.jpg\")"
   ]
  },
  {
   "cell_type": "markdown",
   "metadata": {},
   "source": [
    "# 3.Classification"
   ]
  },
  {
   "cell_type": "code",
   "execution_count": 9,
   "metadata": {},
   "outputs": [
    {
     "name": "stderr",
     "output_type": "stream",
     "text": [
      "Downloading https:\\github.com\\ultralytics\\assets\\releases\\download\\v0.0.0\\yolov8n-cls.pt to yolov8n-cls.pt...\n",
      "\n",
      "  0%|          | 0.00/5.28M [00:00<?, ?B/s]\n",
      "  1%|          | 48.0k/5.28M [00:00<00:12, 449kB/s]\n",
      "  2%|1         | 96.0k/5.28M [00:00<00:17, 315kB/s]\n",
      "  3%|2         | 136k/5.28M [00:00<00:16, 337kB/s] \n",
      "  3%|3         | 176k/5.28M [00:00<00:15, 349kB/s]\n",
      "  4%|3         | 216k/5.28M [00:00<00:17, 312kB/s]\n",
      "  5%|4         | 264k/5.28M [00:00<00:16, 324kB/s]\n",
      "  6%|5         | 312k/5.28M [00:00<00:15, 344kB/s]\n",
      "  7%|6         | 360k/5.28M [00:01<00:13, 372kB/s]\n",
      "  8%|7         | 408k/5.28M [00:01<00:13, 379kB/s]\n",
      "  8%|8         | 456k/5.28M [00:01<00:12, 398kB/s]\n",
      "  9%|9         | 504k/5.28M [00:01<00:12, 412kB/s]\n",
      " 10%|#         | 552k/5.28M [00:01<00:12, 389kB/s]\n",
      " 11%|#         | 592k/5.28M [00:01<00:12, 384kB/s]\n",
      " 12%|#1        | 632k/5.28M [00:01<00:13, 352kB/s]\n",
      " 13%|#2        | 696k/5.28M [00:01<00:12, 375kB/s]\n",
      " 14%|#3        | 744k/5.28M [00:02<00:12, 379kB/s]\n",
      " 15%|#4        | 792k/5.28M [00:02<00:11, 397kB/s]\n",
      " 15%|#5        | 832k/5.28M [00:02<00:11, 390kB/s]\n",
      " 16%|#6        | 872k/5.28M [00:02<00:13, 356kB/s]\n",
      " 17%|#6        | 912k/5.28M [00:02<00:13, 347kB/s]\n",
      " 18%|#7        | 952k/5.28M [00:02<00:15, 287kB/s]\n",
      " 18%|#8        | 984k/5.28M [00:02<00:16, 280kB/s]\n",
      " 19%|#8        | 0.99M/5.28M [00:03<00:16, 266kB/s]\n",
      " 19%|#9        | 1.02M/5.28M [00:03<00:16, 273kB/s]\n",
      " 20%|##        | 1.07M/5.28M [00:03<00:14, 296kB/s]\n",
      " 21%|##1       | 1.12M/5.28M [00:03<00:14, 312kB/s]\n",
      " 23%|##2       | 1.20M/5.28M [00:03<00:10, 407kB/s]\n",
      " 24%|##3       | 1.24M/5.28M [00:03<00:10, 403kB/s]\n",
      " 25%|##4       | 1.30M/5.28M [00:03<00:09, 454kB/s]\n",
      " 26%|##5       | 1.37M/5.28M [00:03<00:08, 475kB/s]\n",
      " 28%|##7       | 1.46M/5.28M [00:04<00:07, 567kB/s]\n",
      " 29%|##8       | 1.52M/5.28M [00:04<00:06, 574kB/s]\n",
      " 30%|###       | 1.60M/5.28M [00:04<00:06, 598kB/s]\n",
      " 32%|###1      | 1.68M/5.28M [00:04<00:06, 615kB/s]\n",
      " 33%|###3      | 1.74M/5.28M [00:04<00:06, 564kB/s]\n",
      " 34%|###4      | 1.80M/5.28M [00:04<00:07, 517kB/s]\n",
      " 35%|###5      | 1.85M/5.28M [00:04<00:07, 499kB/s]\n",
      " 36%|###6      | 1.91M/5.28M [00:05<00:09, 356kB/s]\n",
      " 37%|###7      | 1.98M/5.28M [00:05<00:08, 411kB/s]\n",
      " 38%|###8      | 2.02M/5.28M [00:05<00:08, 394kB/s]\n",
      " 39%|###9      | 2.07M/5.28M [00:05<00:09, 347kB/s]\n",
      " 40%|###9      | 2.11M/5.28M [00:05<00:09, 342kB/s]\n",
      " 41%|####      | 2.15M/5.28M [00:05<00:11, 291kB/s]\n",
      " 41%|####1     | 2.18M/5.28M [00:05<00:11, 292kB/s]\n",
      " 42%|####1     | 2.21M/5.28M [00:06<00:11, 272kB/s]\n",
      " 42%|####2     | 2.24M/5.28M [00:06<00:12, 263kB/s]\n",
      " 43%|####3     | 2.27M/5.28M [00:06<00:11, 271kB/s]\n",
      " 44%|####3     | 2.30M/5.28M [00:06<00:11, 266kB/s]\n",
      " 44%|####4     | 2.34M/5.28M [00:06<00:12, 247kB/s]\n",
      " 45%|####4     | 2.37M/5.28M [00:06<00:13, 235kB/s]\n",
      " 45%|####5     | 2.40M/5.28M [00:06<00:12, 241kB/s]\n",
      " 46%|####6     | 2.43M/5.28M [00:07<00:12, 247kB/s]\n",
      " 47%|####6     | 2.48M/5.28M [00:07<00:10, 278kB/s]\n",
      " 48%|####7     | 2.52M/5.28M [00:07<00:08, 321kB/s]\n",
      " 49%|####8     | 2.56M/5.28M [00:07<00:09, 300kB/s]\n",
      " 49%|####9     | 2.59M/5.28M [00:07<00:10, 270kB/s]\n",
      " 51%|#####1    | 2.70M/5.28M [00:07<00:06, 442kB/s]\n",
      " 52%|#####1    | 2.74M/5.28M [00:07<00:06, 428kB/s]\n",
      " 53%|#####3    | 2.80M/5.28M [00:08<00:05, 439kB/s]\n",
      " 54%|#####4    | 2.85M/5.28M [00:08<00:05, 431kB/s]\n",
      " 55%|#####4    | 2.90M/5.28M [00:08<00:05, 446kB/s]\n",
      " 56%|#####5    | 2.95M/5.28M [00:08<00:05, 429kB/s]\n",
      " 57%|#####6    | 2.99M/5.28M [00:08<00:05, 418kB/s]\n",
      " 58%|#####7    | 3.05M/5.28M [00:08<00:04, 467kB/s]\n",
      " 59%|#####9    | 3.12M/5.28M [00:08<00:05, 393kB/s]\n",
      " 61%|######1   | 3.23M/5.28M [00:08<00:04, 530kB/s]\n",
      " 62%|######2   | 3.28M/5.28M [00:09<00:04, 510kB/s]\n",
      " 63%|######3   | 3.34M/5.28M [00:09<00:04, 478kB/s]\n",
      " 64%|######4   | 3.40M/5.28M [00:09<00:04, 474kB/s]\n",
      " 66%|######5   | 3.46M/5.28M [00:09<00:03, 504kB/s]\n",
      " 67%|######6   | 3.52M/5.28M [00:09<00:03, 473kB/s]\n",
      " 68%|######7   | 3.56M/5.28M [00:09<00:03, 466kB/s]\n",
      " 68%|######8   | 3.61M/5.28M [00:09<00:03, 444kB/s]\n",
      " 69%|######9   | 3.66M/5.28M [00:09<00:03, 444kB/s]\n",
      " 70%|#######   | 3.70M/5.28M [00:10<00:03, 413kB/s]\n",
      " 71%|#######1  | 3.76M/5.28M [00:10<00:03, 443kB/s]\n",
      " 72%|#######2  | 3.80M/5.28M [00:10<00:03, 427kB/s]\n",
      " 73%|#######3  | 3.87M/5.28M [00:10<00:03, 455kB/s]\n",
      " 74%|#######4  | 3.93M/5.28M [00:10<00:02, 494kB/s]\n",
      " 76%|#######5  | 4.01M/5.28M [00:10<00:02, 565kB/s]\n",
      " 77%|#######7  | 4.09M/5.28M [00:10<00:02, 593kB/s]\n",
      " 79%|#######8  | 4.15M/5.28M [00:10<00:01, 594kB/s]\n",
      " 80%|########  | 4.23M/5.28M [00:11<00:01, 612kB/s]\n",
      " 81%|########1 | 4.29M/5.28M [00:11<00:01, 541kB/s]\n",
      " 82%|########2 | 4.34M/5.28M [00:11<00:01, 536kB/s]\n",
      " 83%|########3 | 4.40M/5.28M [00:11<00:02, 460kB/s]\n",
      " 84%|########4 | 4.45M/5.28M [00:11<00:01, 457kB/s]\n",
      " 85%|########5 | 4.51M/5.28M [00:11<00:01, 476kB/s]\n",
      " 86%|########6 | 4.55M/5.28M [00:11<00:01, 452kB/s]\n",
      " 87%|########7 | 4.62M/5.28M [00:11<00:01, 472kB/s]\n",
      " 88%|########8 | 4.66M/5.28M [00:12<00:01, 465kB/s]\n",
      " 89%|########9 | 4.71M/5.28M [00:12<00:01, 460kB/s]\n",
      " 90%|######### | 4.77M/5.28M [00:12<00:01, 498kB/s]\n",
      " 91%|#########1| 4.83M/5.28M [00:12<00:00, 486kB/s]\n",
      " 92%|#########2| 4.88M/5.28M [00:12<00:00, 475kB/s]\n",
      " 93%|#########3| 4.92M/5.28M [00:12<00:00, 448kB/s]\n",
      " 94%|#########4| 4.97M/5.28M [00:12<00:00, 459kB/s]\n",
      " 95%|#########5| 5.02M/5.28M [00:12<00:00, 444kB/s]\n",
      " 96%|#########6| 5.07M/5.28M [00:12<00:00, 467kB/s]\n",
      " 97%|#########6| 5.12M/5.28M [00:13<00:00, 425kB/s]\n",
      " 98%|#########7| 5.16M/5.28M [00:13<00:00, 410kB/s]\n",
      " 99%|#########8| 5.21M/5.28M [00:13<00:00, 394kB/s]\n",
      "100%|#########9| 5.26M/5.28M [00:13<00:00, 409kB/s]\n",
      "100%|##########| 5.28M/5.28M [00:13<00:00, 408kB/s]\n",
      "Ultralytics YOLOv8.0.113  Python-3.10.5 torch-2.0.1+cpu CPU\n",
      "YOLOv8n-cls summary (fused): 73 layers, 2715880 parameters, 0 gradients\n",
      "\n",
      "image 1/1 E:\\YoloV8\\Project2\\images\\1.jpg: 224x224 Persian_cat 0.23, tabby 0.22, Egyptian_cat 0.13, tiger_cat 0.13, lynx 0.05, 53.5ms\n",
      "Speed: 0.0ms preprocess, 53.5ms inference, 0.0ms postprocess per image at shape (1, 3, 224, 224)\n",
      "Results saved to \u001b[1mruns\\classify\\predict\u001b[0m\n"
     ]
    }
   ],
   "source": [
    "!yolo task=classify mode=predict model=yolov8n-cls.pt source=\"images/1.jpg\""
   ]
  },
  {
   "cell_type": "code",
   "execution_count": null,
   "metadata": {},
   "outputs": [],
   "source": []
  },
  {
   "cell_type": "code",
   "execution_count": null,
   "metadata": {},
   "outputs": [],
   "source": []
  },
  {
   "cell_type": "code",
   "execution_count": null,
   "metadata": {},
   "outputs": [],
   "source": []
  }
 ],
 "metadata": {
  "accelerator": "GPU",
  "colab": {
   "gpuType": "T4",
   "provenance": []
  },
  "kernelspec": {
   "display_name": "Python 3 (ipykernel)",
   "language": "python",
   "name": "python3"
  },
  "language_info": {
   "codemirror_mode": {
    "name": "ipython",
    "version": 3
   },
   "file_extension": ".py",
   "mimetype": "text/x-python",
   "name": "python",
   "nbconvert_exporter": "python",
   "pygments_lexer": "ipython3",
   "version": "3.10.5"
  }
 },
 "nbformat": 4,
 "nbformat_minor": 1
}
