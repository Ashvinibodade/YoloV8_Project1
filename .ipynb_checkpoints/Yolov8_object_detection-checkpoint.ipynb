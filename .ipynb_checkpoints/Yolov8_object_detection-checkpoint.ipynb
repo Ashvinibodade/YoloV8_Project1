{
 "cells": [
  {
   "cell_type": "code",
   "execution_count": null,
   "id": "dba5dec1",
   "metadata": {},
   "outputs": [],
   "source": [
    "# !nvidia-smi"
   ]
  },
  {
   "cell_type": "code",
   "execution_count": null,
   "id": "b485290f",
   "metadata": {},
   "outputs": [],
   "source": [
    "import os\n",
    "HOME = os.getcwd()\n",
    "print(HOME)"
   ]
  },
  {
   "cell_type": "markdown",
   "id": "1e9cb63a",
   "metadata": {},
   "source": [
    "# Install YOLOv8\n",
    "⚠️ YOLOv8 is still under heavy development. Breaking changes are being introduced almost weekly. We strive to make our YOLOv8 notebooks work with the latest version of the library. Last tests took place on 18.01.2023 with version YOLOv8.0.9.\n",
    "\n",
    "If you notice that our notebook behaves incorrectly - especially if you experience errors that prevent you from going through the tutorial - don't hesitate! Let us know and open an issue on the Roboflow Notebooks repository.\n",
    "\n",
    "YOLOv8 can be installed in two ways - from the source and via pip. This is because it is the first iteration of YOLO to have an official package."
   ]
  },
  {
   "cell_type": "code",
   "execution_count": 3,
   "id": "a17cf0a1",
   "metadata": {},
   "outputs": [
    {
     "name": "stdout",
     "output_type": "stream",
     "text": [
      "Requirement already satisfied: ultralytics in c:\\users\\ashvi\\anaconda3\\lib\\site-packages (8.0.113)\n",
      "Requirement already satisfied: matplotlib>=3.2.2 in c:\\users\\ashvi\\anaconda3\\lib\\site-packages (from ultralytics) (3.5.1)\n",
      "Requirement already satisfied: scipy>=1.4.1 in c:\\users\\ashvi\\anaconda3\\lib\\site-packages (from ultralytics) (1.7.3)\n",
      "Requirement already satisfied: psutil in c:\\users\\ashvi\\anaconda3\\lib\\site-packages (from ultralytics) (5.8.0)\n",
      "Requirement already satisfied: torchvision>=0.8.1 in c:\\users\\ashvi\\anaconda3\\lib\\site-packages (from ultralytics) (0.15.2)\n",
      "Requirement already satisfied: requests>=2.23.0 in c:\\users\\ashvi\\anaconda3\\lib\\site-packages (from ultralytics) (2.27.1)\n",
      "Requirement already satisfied: torch>=1.7.0 in c:\\users\\ashvi\\anaconda3\\lib\\site-packages (from ultralytics) (2.0.1)\n",
      "Requirement already satisfied: tqdm>=4.64.0 in c:\\users\\ashvi\\anaconda3\\lib\\site-packages (from ultralytics) (4.64.0)\n",
      "Requirement already satisfied: opencv-python>=4.6.0 in c:\\users\\ashvi\\anaconda3\\lib\\site-packages (from ultralytics) (4.7.0.72)\n",
      "Requirement already satisfied: seaborn>=0.11.0 in c:\\users\\ashvi\\anaconda3\\lib\\site-packages (from ultralytics) (0.11.2)\n",
      "Requirement already satisfied: pandas>=1.1.4 in c:\\users\\ashvi\\anaconda3\\lib\\site-packages (from ultralytics) (1.4.2)\n",
      "Requirement already satisfied: Pillow>=7.1.2 in c:\\users\\ashvi\\anaconda3\\lib\\site-packages (from ultralytics) (9.0.1)\n",
      "Requirement already satisfied: PyYAML>=5.3.1 in c:\\users\\ashvi\\anaconda3\\lib\\site-packages (from ultralytics) (6.0)\n",
      "Requirement already satisfied: pyparsing>=2.2.1 in c:\\users\\ashvi\\anaconda3\\lib\\site-packages (from matplotlib>=3.2.2->ultralytics) (3.0.4)\n",
      "Requirement already satisfied: kiwisolver>=1.0.1 in c:\\users\\ashvi\\anaconda3\\lib\\site-packages (from matplotlib>=3.2.2->ultralytics) (1.3.2)\n",
      "Requirement already satisfied: packaging>=20.0 in c:\\users\\ashvi\\anaconda3\\lib\\site-packages (from matplotlib>=3.2.2->ultralytics) (21.3)\n",
      "Requirement already satisfied: fonttools>=4.22.0 in c:\\users\\ashvi\\anaconda3\\lib\\site-packages (from matplotlib>=3.2.2->ultralytics) (4.25.0)\n",
      "Requirement already satisfied: numpy>=1.17 in c:\\users\\ashvi\\anaconda3\\lib\\site-packages (from matplotlib>=3.2.2->ultralytics) (1.21.5)\n",
      "Requirement already satisfied: python-dateutil>=2.7 in c:\\users\\ashvi\\anaconda3\\lib\\site-packages (from matplotlib>=3.2.2->ultralytics) (2.8.2)\n",
      "Requirement already satisfied: cycler>=0.10 in c:\\users\\ashvi\\anaconda3\\lib\\site-packages (from matplotlib>=3.2.2->ultralytics) (0.11.0)\n",
      "Requirement already satisfied: pytz>=2020.1 in c:\\users\\ashvi\\anaconda3\\lib\\site-packages (from pandas>=1.1.4->ultralytics) (2021.3)\n",
      "Requirement already satisfied: six>=1.5 in c:\\users\\ashvi\\anaconda3\\lib\\site-packages (from python-dateutil>=2.7->matplotlib>=3.2.2->ultralytics) (1.16.0)\n",
      "Requirement already satisfied: urllib3<1.27,>=1.21.1 in c:\\users\\ashvi\\anaconda3\\lib\\site-packages (from requests>=2.23.0->ultralytics) (1.26.16)\n",
      "Requirement already satisfied: charset-normalizer~=2.0.0 in c:\\users\\ashvi\\anaconda3\\lib\\site-packages (from requests>=2.23.0->ultralytics) (2.0.4)\n",
      "Requirement already satisfied: certifi>=2017.4.17 in c:\\users\\ashvi\\anaconda3\\lib\\site-packages (from requests>=2.23.0->ultralytics) (2021.10.8)\n",
      "Requirement already satisfied: idna<4,>=2.5 in c:\\users\\ashvi\\anaconda3\\lib\\site-packages (from requests>=2.23.0->ultralytics) (3.3)\n",
      "Requirement already satisfied: typing-extensions in c:\\users\\ashvi\\anaconda3\\lib\\site-packages (from torch>=1.7.0->ultralytics) (4.1.1)\n",
      "Requirement already satisfied: networkx in c:\\users\\ashvi\\anaconda3\\lib\\site-packages (from torch>=1.7.0->ultralytics) (2.7.1)\n",
      "Requirement already satisfied: jinja2 in c:\\users\\ashvi\\anaconda3\\lib\\site-packages (from torch>=1.7.0->ultralytics) (2.11.3)\n",
      "Requirement already satisfied: sympy in c:\\users\\ashvi\\anaconda3\\lib\\site-packages (from torch>=1.7.0->ultralytics) (1.10.1)\n",
      "Requirement already satisfied: filelock in c:\\users\\ashvi\\anaconda3\\lib\\site-packages (from torch>=1.7.0->ultralytics) (3.6.0)\n",
      "Requirement already satisfied: colorama in c:\\users\\ashvi\\anaconda3\\lib\\site-packages (from tqdm>=4.64.0->ultralytics) (0.4.4)\n",
      "Requirement already satisfied: MarkupSafe>=0.23 in c:\\users\\ashvi\\anaconda3\\lib\\site-packages (from jinja2->torch>=1.7.0->ultralytics) (2.0.1)\n",
      "Requirement already satisfied: mpmath>=0.19 in c:\\users\\ashvi\\anaconda3\\lib\\site-packages (from sympy->torch>=1.7.0->ultralytics) (1.2.1)\n",
      "Note: you may need to restart the kernel to use updated packages.\n"
     ]
    }
   ],
   "source": [
    "# Pip install method (recommended)\n",
    "\n",
    "%pip install ultralytics"
   ]
  },
  {
   "cell_type": "code",
   "execution_count": 4,
   "id": "b3ec6209",
   "metadata": {},
   "outputs": [
    {
     "name": "stderr",
     "output_type": "stream",
     "text": [
      "Ultralytics YOLOv8.0.113  Python-3.9.12 torch-2.0.1+cpu CPU\n",
      "Setup complete  (8 CPUs, 7.7 GB RAM, 3.0/9.8 GB disk)\n"
     ]
    }
   ],
   "source": [
    "from IPython import display\n",
    "display.clear_output()\n",
    "\n",
    "import ultralytics\n",
    "ultralytics.checks()"
   ]
  },
  {
   "cell_type": "code",
   "execution_count": 5,
   "id": "38059e6a",
   "metadata": {},
   "outputs": [],
   "source": [
    "from ultralytics import YOLO\n",
    "\n",
    "from IPython.display import display, Image"
   ]
  },
  {
   "cell_type": "markdown",
   "id": "a938ac80",
   "metadata": {},
   "source": [
    "# CLI Basics\n",
    "If you want to train, validate or run inference on models and don't need to make any modifications to the code, using YOLO command line interface is the easiest way to get started. Read more about CLI in Ultralytics YOLO Docs.\n",
    "\n",
    "yolo task=detect    mode=train    model=yolov8n.yaml      args...\n",
    "          classify       predict        yolov8n-cls.yaml  args...\n",
    "          segment        val            yolov8n-seg.yaml  args...\n",
    "                         export         yolov8n.pt        format=onnx  args...\n",
    "                         \n",
    "                 "
   ]
  },
  {
   "cell_type": "markdown",
   "id": "f7e9f822",
   "metadata": {},
   "source": [
    "# Inference with Pre-trained COCO Model\n",
    "💻 CLI\n",
    "\n",
    "yolo mode=predict runs YOLOv8 inference on a variety of sources, downloading models automatically from the latest YOLOv8 release, and saving results to runs/predict."
   ]
  },
  {
   "cell_type": "code",
   "execution_count": null,
   "id": "3ba1b403",
   "metadata": {},
   "outputs": [
    {
     "name": "stdout",
     "output_type": "stream",
     "text": [
      "E:\\YoloV8\\Project2\n"
     ]
    }
   ],
   "source": [
    "%cd {HOME}\n",
    "!yolo task=detect mode=predict model=yolov8n.pt conf=0.25 source='https://media.roboflow.com/notebooks/examples/dog.jpeg'\n",
    "     "
   ]
  },
  {
   "cell_type": "code",
   "execution_count": null,
   "id": "7b7ce808",
   "metadata": {},
   "outputs": [],
   "source": [
    "# %cd {HOME}\n",
    "# Image(filename='runs/detect/predict/dog.jpeg', height=600)"
   ]
  },
  {
   "cell_type": "markdown",
   "id": "981503d8",
   "metadata": {},
   "source": [
    "🐍 Python SDK\n",
    "The simplest way of simply using YOLOv8 directly in a Python environment.# "
   ]
  },
  {
   "cell_type": "code",
   "execution_count": null,
   "id": "60e5b593",
   "metadata": {},
   "outputs": [],
   "source": [
    "model = YOLO(f'{HOME}/yolov8n.pt')\n",
    "results = model.predict(source='https://media.roboflow.com/notebooks/examples/dog.jpeg', conf=0.25)"
   ]
  },
  {
   "cell_type": "code",
   "execution_count": null,
   "id": "a715360f",
   "metadata": {},
   "outputs": [],
   "source": [
    "results[0].boxes.xyxy"
   ]
  },
  {
   "cell_type": "code",
   "execution_count": null,
   "id": "fe48fdd6",
   "metadata": {},
   "outputs": [],
   "source": [
    "results[0].boxes.cls"
   ]
  },
  {
   "cell_type": "markdown",
   "id": "0c7b03ad",
   "metadata": {},
   "source": [
    "# Custom Training"
   ]
  },
  {
   "cell_type": "code",
   "execution_count": null,
   "id": "4dfe15f4",
   "metadata": {},
   "outputs": [],
   "source": [
    "# from google.colab import drive\n",
    "# drive.mount('/content/drive')\n",
    "\n",
    "# %cd /content/drive/MyDrive/My Courses/YOLOv8"
   ]
  },
  {
   "cell_type": "code",
   "execution_count": null,
   "id": "a9ca9979",
   "metadata": {},
   "outputs": [],
   "source": [
    "!yolo task=detect mode=train model=yolov8s.pt data= data.yaml epochs=25 imgsz=224 plots=True"
   ]
  },
  {
   "cell_type": "code",
   "execution_count": null,
   "id": "9ca5a0da",
   "metadata": {},
   "outputs": [],
   "source": [
    "!ls runs/detect/train/"
   ]
  },
  {
   "cell_type": "code",
   "execution_count": null,
   "id": "03697b51",
   "metadata": {},
   "outputs": [],
   "source": [
    "Image(filename='runs/detect/train/confusion_matrix.png', width=600)"
   ]
  },
  {
   "cell_type": "code",
   "execution_count": null,
   "id": "d289e06a",
   "metadata": {},
   "outputs": [],
   "source": [
    "Image(filename='runs/detect/train/results.png', width=600)"
   ]
  },
  {
   "cell_type": "code",
   "execution_count": null,
   "id": "02048955",
   "metadata": {},
   "outputs": [],
   "source": [
    "Image(filename='runs/detect/train/val_batch0_pred.jpg', width=600)"
   ]
  },
  {
   "cell_type": "markdown",
   "id": "f39d6fdf",
   "metadata": {},
   "source": [
    "# Validate Custom Model"
   ]
  },
  {
   "cell_type": "code",
   "execution_count": null,
   "id": "afd304c8",
   "metadata": {},
   "outputs": [],
   "source": [
    "!yolo task=detect mode=val model=runs/detect/train/weights/best.pt data=data.yaml"
   ]
  },
  {
   "cell_type": "markdown",
   "id": "1026b6ce",
   "metadata": {},
   "source": [
    "# Inference with Custom Model"
   ]
  },
  {
   "cell_type": "code",
   "execution_count": null,
   "id": "1feab52c",
   "metadata": {},
   "outputs": [],
   "source": [
    "!yolo task=detect mode=predict model=runs/detect/train/weights/best.pt conf=0.25 source=Data/Test/images"
   ]
  },
  {
   "cell_type": "code",
   "execution_count": null,
   "id": "3739ecfa",
   "metadata": {},
   "outputs": [],
   "source": [
    "import glob\n",
    "from IPython.display import Image, display\n",
    "\n",
    "for image_path in glob.glob('runs/detect/predict/*.jpg')[:3]:\n",
    "      display(Image(filename=image_path, width=600))\n",
    "      print(\"\\n\")"
   ]
  }
 ],
 "metadata": {
  "kernelspec": {
   "display_name": "Python 3 (ipykernel)",
   "language": "python",
   "name": "python3"
  },
  "language_info": {
   "codemirror_mode": {
    "name": "ipython",
    "version": 3
   },
   "file_extension": ".py",
   "mimetype": "text/x-python",
   "name": "python",
   "nbconvert_exporter": "python",
   "pygments_lexer": "ipython3",
   "version": "3.9.12"
  }
 },
 "nbformat": 4,
 "nbformat_minor": 5
}
